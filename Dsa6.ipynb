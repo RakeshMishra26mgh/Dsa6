{
  "nbformat": 4,
  "nbformat_minor": 0,
  "metadata": {
    "colab": {
      "provenance": [],
      "authorship_tag": "ABX9TyPGvFx308+niXMZvACzcNwM",
      "include_colab_link": true
    },
    "kernelspec": {
      "name": "python3",
      "display_name": "Python 3"
    },
    "language_info": {
      "name": "python"
    }
  },
  "cells": [
    {
      "cell_type": "markdown",
      "metadata": {
        "id": "view-in-github",
        "colab_type": "text"
      },
      "source": [
        "<a href=\"https://colab.research.google.com/github/RakeshMishra26mgh/Dsa6/blob/main/Dsa6.ipynb\" target=\"_parent\"><img src=\"https://colab.research.google.com/assets/colab-badge.svg\" alt=\"Open In Colab\"/></a>"
      ]
    },
    {
      "cell_type": "markdown",
      "source": [
        "Answer 1:-"
      ],
      "metadata": {
        "id": "CkdN7ZCgYVn1"
      }
    },
    {
      "cell_type": "code",
      "source": [
        "def reconstruct_permutation(s):\n",
        "  perm = []\n",
        "  low = 0\n",
        "  high = len(s)\n",
        "  for c in s:\n",
        "    if c == 'I':\n",
        "      perm.append(low)\n",
        "      low += 1\n",
        "    elif c == 'D':\n",
        "      perm.append(high)\n",
        "      high -= 1\n",
        "  perm.append(low)\n",
        "  return perm\n",
        "\n",
        "s = input(\"Enter a string of 'I' and 'D': \")\n",
        "if not s.isalpha() or not all(c in \"ID\" for c in s):\n",
        "  print(\"Invalid input. Please enter a string of 'I' and 'D' only.\")\n",
        "else:\n",
        "  perm = reconstruct_permutation(s)\n",
        "  print(\"A possible permutation is:\", perm)\n"
      ],
      "metadata": {
        "id": "6pJOi74VYX90"
      },
      "execution_count": null,
      "outputs": []
    },
    {
      "cell_type": "markdown",
      "source": [
        "Answer 2:-"
      ],
      "metadata": {
        "id": "5Eh9zWCAZPX0"
      }
    },
    {
      "cell_type": "code",
      "source": [
        "def search_matrix(matrix, target):\n",
        "  m = len(matrix)\n",
        "  n = len(matrix[0])\n",
        "  left = 0\n",
        "  right = m * n - 1\n",
        "  while left <= right:\n",
        "    mid = (left + right) // 2\n",
        "    row = mid // n\n",
        "    col = mid % n\n",
        "    if matrix[row][col] == target:\n",
        "      return True\n",
        "    elif matrix[row][col] < target:\n",
        "      left = mid + 1\n",
        "    else:\n",
        "      right = mid - 1\n",
        "  return False\n",
        "\n",
        "def input_matrix():\n",
        "  rows = int(input(\"Enter the number of rows: \"))\n",
        "  cols = int(input(\"Enter the number of columns: \"))\n",
        "  matrix = []\n",
        "  for i in range(rows):\n",
        "    row = []\n",
        "    for j in range(cols):\n",
        "      element = int(input(f\"Enter the element at ({i},{j}): \"))\n",
        "      row.append(element)\n",
        "    matrix.append(row)\n",
        "  return matrix\n",
        "\n",
        "matrix = input_matrix()\n",
        "target = int(input(\"Enter the target: \"))\n",
        "print(search_matrix(matrix, target))\n"
      ],
      "metadata": {
        "id": "EO7ncAF9tgHj"
      },
      "execution_count": null,
      "outputs": []
    },
    {
      "cell_type": "markdown",
      "source": [
        "Answer 3:-"
      ],
      "metadata": {
        "id": "oOcvxbavbAx6"
      }
    },
    {
      "cell_type": "code",
      "source": [
        "def valid_mountain_array(arr):\n",
        "  n = len(arr)\n",
        "  peak = -1\n",
        "  for i in range(n):\n",
        "    if i == 0 or i == n - 1:\n",
        "      continue\n",
        "    if arr[i] > arr[i-1] and arr[i] > arr[i+1]:\n",
        "      peak = i\n",
        "      break\n",
        "  if peak == -1:\n",
        "    return False\n",
        "  for i in range(peak):\n",
        "    if arr[i] >= arr[i+1]:\n",
        "      return False\n",
        "  for i in range(peak, n-1):\n",
        "    if arr[i] <= arr[i+1]:\n",
        "      return False\n",
        "  return True\n",
        "\n",
        "arr = input(\"Enter an array of integers separated by spaces only: \")\n",
        "try:\n",
        "  arr = [int(x) for x in arr.split()]\n",
        "  if len(arr) < 3:\n",
        "    print(\"Invalid input. Please enter an array with at least three elements.\")\n",
        "  else:\n",
        "    result = valid_mountain_array(arr)\n",
        "    print(\"The array is a valid mountain array:\", result)\n",
        "except ValueError:\n",
        "  print(\"Invalid input. Please enter an array of integers.\")\n"
      ],
      "metadata": {
        "id": "UEni7HIpbDFj"
      },
      "execution_count": null,
      "outputs": []
    },
    {
      "cell_type": "markdown",
      "source": [
        "Answer 4:-"
      ],
      "metadata": {
        "id": "MT9B3ulHcivR"
      }
    },
    {
      "cell_type": "code",
      "source": [
        "def find_max_length(nums):\n",
        "  max_length = 0\n",
        "  cum_sum = 0\n",
        "  cum_sum_dict = {0: -1}\n",
        "  for i in range(len(nums)):\n",
        "    if nums[i] == 0:\n",
        "      cum_sum -= 1\n",
        "    elif nums[i] == 1:\n",
        "      cum_sum += 1\n",
        "    if cum_sum in cum_sum_dict:\n",
        "      max_length = max(max_length, i - cum_sum_dict[cum_sum])\n",
        "    else:\n",
        "      cum_sum_dict[cum_sum] = i\n",
        "  return max_length\n",
        "\n",
        "nums = input(\"Enter a binary array where each element is separated by spaces only: \")\n",
        "try:\n",
        "  nums = [int(x) for x in nums.split()]\n",
        "  if not nums or any(x not in [0,1] for x in nums):\n",
        "    print(\"Invalid input. Please enter a non-empty binary array.\")\n",
        "  else:\n",
        "    result = find_max_length(nums)\n",
        "    print(\"The maximum length of a contiguous subarray with equal number of 0 and 1 is:\", result)\n",
        "except ValueError:\n",
        "  print(\"Invalid input. Please enter a binary array.\")\n"
      ],
      "metadata": {
        "id": "irNULmUEck0I"
      },
      "execution_count": null,
      "outputs": []
    },
    {
      "cell_type": "markdown",
      "source": [
        "Answer 5:-"
      ],
      "metadata": {
        "id": "VURN8EBydlmH"
      }
    },
    {
      "cell_type": "code",
      "source": [
        "def min_product_sum(nums1, nums2):\n",
        "  product_sum = 0\n",
        "  nums1.sort()\n",
        "  nums2.sort(reverse=True)\n",
        "  for i in range(len(nums1)):\n",
        "    product_sum += nums1[i] * nums2[i]\n",
        "  return product_sum\n",
        "\n",
        "nums1 = input(\"Enter the first array of integers where elements are separated by spaces only: \")\n",
        "nums2 = input(\"Enter the second array of integers where elements are separated by spaces only: \")\n",
        "try:\n",
        "  nums1 = [int(x) for x in nums1.split()]\n",
        "  nums2 = [int(x) for x in nums2.split()]\n",
        "  if len(nums1) != len(nums2) or not nums1 or not nums2:\n",
        "    print(\"Invalid input. Please enter two non-empty arrays of integers with the same length.\")\n",
        "  else:\n",
        "    result = min_product_sum(nums1, nums2)\n",
        "    print(\"The minimum product sum is:\", result)\n",
        "except ValueError:\n",
        "  print(\"Invalid input. Please enter two arrays of integers.\")\n"
      ],
      "metadata": {
        "id": "OK313U4Edo2n"
      },
      "execution_count": null,
      "outputs": []
    },
    {
      "cell_type": "markdown",
      "source": [
        "Answer 6:-"
      ],
      "metadata": {
        "id": "u9qJFj36eYXX"
      }
    },
    {
      "cell_type": "code",
      "source": [
        "def find_original_array(changed):\n",
        "  original = []\n",
        "  freq = {}\n",
        "  for x in changed:\n",
        "    freq[x] = freq.get(x, 0) + 1\n",
        "  changed.sort()\n",
        "  for x in changed:\n",
        "    if freq[x] > 0:\n",
        "      if x * 2 in freq and freq[x * 2] > 0:\n",
        "        original.append(x)\n",
        "        freq[x] -= 1\n",
        "        freq[x * 2] -= 1\n",
        "      else:\n",
        "        return []\n",
        "  return original\n",
        "\n",
        "changed = input(\"Enter an array of integers separated by spaces only : \")\n",
        "try:\n",
        "  changed = [int(x) for x in changed.split()]\n",
        "  if len(changed) % 2 != 0 or not changed:\n",
        "    print(\"Invalid input. Please enter a non-empty array with an even length.\")\n",
        "  else:\n",
        "    result = find_original_array(changed)\n",
        "    print(\"A possible original array is:\", result)\n",
        "except ValueError:\n",
        "  print(\"Invalid input. Please enter an array of integers.\")\n"
      ],
      "metadata": {
        "id": "NRSfALSNeaSf"
      },
      "execution_count": null,
      "outputs": []
    },
    {
      "cell_type": "markdown",
      "source": [
        "Answer 7:-"
      ],
      "metadata": {
        "id": "bqd9ZOUyfPoJ"
      }
    },
    {
      "cell_type": "code",
      "source": [
        "\n",
        "def generate_matrix(n):\n",
        "  matrix = [[0] * n for _ in range(n)]\n",
        "  top = 0\n",
        "  bottom = n - 1\n",
        "  left = 0\n",
        "  right = n - 1\n",
        "  num = 1\n",
        "  while num <= n * n:\n",
        "    for i in range(left, right + 1):\n",
        "      matrix[top][i] = num\n",
        "      num += 1\n",
        "    top += 1\n",
        "    for i in range(top, bottom + 1):\n",
        "      matrix[i][right] = num\n",
        "      num += 1\n",
        "    right -= 1\n",
        "    for i in range(right, left - 1, -1):\n",
        "      matrix[bottom][i] = num\n",
        "      num += 1\n",
        "    bottom -= 1\n",
        "    for i in range(bottom, top - 1, -1):\n",
        "      matrix[i][left] = num\n",
        "      num += 1\n",
        "    left += 1\n",
        "  return matrix\n",
        "\n",
        "n = input(\"Enter a positive integer: \")\n",
        "try:\n",
        "  n = int(n)\n",
        "  if n <= 0:\n",
        "    print(\"Invalid input. Please enter a positive integer.\")\n",
        "  else:\n",
        "    result = generate_matrix(n)\n",
        "    print(\"The generated matrix is:\")\n",
        "    for row in result:\n",
        "      print(row)\n",
        "except ValueError:\n",
        "  print(\"Invalid input. Please enter a positive integer.\")\n"
      ],
      "metadata": {
        "id": "bgOgf9_ifS5w"
      },
      "execution_count": null,
      "outputs": []
    },
    {
      "cell_type": "markdown",
      "source": [
        "Answer 8:-"
      ],
      "metadata": {
        "id": "Y_quCCjCgyY5"
      }
    },
    {
      "cell_type": "code",
      "source": [
        "def multiply_sparse(mat1, mat2):\n",
        "  m = len(mat1)\n",
        "  k = len(mat1[0])\n",
        "  n = len(mat2[0])\n",
        "  result = [[0 for _ in range(n)] for _ in range(m)]\n",
        "  for i in range(m):\n",
        "    for j in range(n):\n",
        "      for l in range(k):\n",
        "        result[i][j] += mat1[i][l] * mat2[l][j]\n",
        "  return result\n",
        "\n",
        "def input_sparse():\n",
        "  rows = int(input(\"Enter the number of rows: \"))\n",
        "  cols = int(input(\"Enter the number of columns: \"))\n",
        "  matrix = []\n",
        "  for i in range(rows):\n",
        "    row = []\n",
        "    for j in range(cols):\n",
        "      element = int(input(f\"Enter the element at ({i},{j}): \"))\n",
        "      row.append(element)\n",
        "    matrix.append(row)\n",
        "  return matrix\n",
        "\n",
        "mat1 = input_sparse()\n",
        "mat2 = input_sparse()\n",
        "print(multiply_sparse(mat1, mat2))\n"
      ],
      "metadata": {
        "id": "11Mk0x5ep7iR"
      },
      "execution_count": null,
      "outputs": []
    }
  ]
}